{
 "cells": [
  {
   "cell_type": "code",
   "execution_count": null,
   "metadata": {
    "id": "zcz0wY7hhTS6"
   },
   "outputs": [
    {
     "ename": "",
     "evalue": "",
     "output_type": "error",
     "traceback": [
      "\u001b[1;31mRunning cells with 'Python 3.12.3' requires the ipykernel package.\n",
      "\u001b[1;31mRun the following command to install 'ipykernel' into the Python environment. \n",
      "\u001b[1;31mCommand: 'c:/Users/KIIT0001/AppData/Local/Programs/Python/Python312/python.exe -m pip install ipykernel -U --user --force-reinstall'"
     ]
    }
   ],
   "source": [
    "# **BANK CUSTOMER CHURN MODEL**"
   ]
  },
  {
   "cell_type": "markdown",
   "metadata": {
    "id": "EgmqFdC9hBop"
   },
   "source": [
    "## **Import Libraries**"
   ]
  },
  {
   "cell_type": "code",
   "execution_count": null,
   "metadata": {
    "executionInfo": {
     "elapsed": 807,
     "status": "ok",
     "timestamp": 1736274669584,
     "user": {
      "displayName": "Atish Kundu",
      "userId": "00008227457038491539"
     },
     "user_tz": -330
    },
    "id": "TsJMNPLrxJzT"
   },
   "outputs": [
    {
     "ename": "",
     "evalue": "",
     "output_type": "error",
     "traceback": [
      "\u001b[1;31mRunning cells with 'Python 3.12.3' requires the ipykernel package.\n",
      "\u001b[1;31mRun the following command to install 'ipykernel' into the Python environment. \n",
      "\u001b[1;31mCommand: 'c:/Users/KIIT0001/AppData/Local/Programs/Python/Python312/python.exe -m pip install ipykernel -U --user --force-reinstall'"
     ]
    }
   ],
   "source": [
    "import pandas as pd"
   ]
  },
  {
   "cell_type": "code",
   "execution_count": 2,
   "metadata": {
    "executionInfo": {
     "elapsed": 2,
     "status": "ok",
     "timestamp": 1736274669986,
     "user": {
      "displayName": "Atish Kundu",
      "userId": "00008227457038491539"
     },
     "user_tz": -330
    },
    "id": "d5ZVv6sAxS6Y"
   },
   "outputs": [],
   "source": [
    "import numpy as np"
   ]
  },
  {
   "cell_type": "code",
   "execution_count": 3,
   "metadata": {
    "executionInfo": {
     "elapsed": 2,
     "status": "ok",
     "timestamp": 1736274669986,
     "user": {
      "displayName": "Atish Kundu",
      "userId": "00008227457038491539"
     },
     "user_tz": -330
    },
    "id": "1k1lfPIlxWEB"
   },
   "outputs": [],
   "source": [
    "import matplotlib.pyplot as plt"
   ]
  },
  {
   "cell_type": "code",
   "execution_count": 4,
   "metadata": {
    "executionInfo": {
     "elapsed": 4232,
     "status": "ok",
     "timestamp": 1736274674217,
     "user": {
      "displayName": "Atish Kundu",
      "userId": "00008227457038491539"
     },
     "user_tz": -330
    },
    "id": "tFeyDJFn0myQ"
   },
   "outputs": [],
   "source": [
    "import seaborn as sns"
   ]
  },
  {
   "cell_type": "markdown",
   "metadata": {
    "id": "CcilauF6h1T4"
   },
   "source": [
    "### **Import dataset**"
   ]
  },
  {
   "cell_type": "code",
   "execution_count": 5,
   "metadata": {
    "executionInfo": {
     "elapsed": 697,
     "status": "ok",
     "timestamp": 1736274674912,
     "user": {
      "displayName": "Atish Kundu",
      "userId": "00008227457038491539"
     },
     "user_tz": -330
    },
    "id": "5BbgiMEB0qmr"
   },
   "outputs": [],
   "source": [
    "df = pd.read_csv('https://github.com/YBI-Foundation/Dataset/raw/refs/heads/main/Bank%20Churn%20Modelling.csv')"
   ]
  },
  {
   "cell_type": "markdown",
   "metadata": {
    "id": "byTTwXlPif1u"
   },
   "source": [
    "### **Description of data**"
   ]
  },
  {
   "cell_type": "code",
   "execution_count": null,
   "metadata": {
    "colab": {
     "base_uri": "https://localhost:8080/"
    },
    "executionInfo": {
     "elapsed": 18,
     "status": "ok",
     "timestamp": 1736274674913,
     "user": {
      "displayName": "Atish Kundu",
      "userId": "00008227457038491539"
     },
     "user_tz": -330
    },
    "id": "fnOmRJD850zV",
    "outputId": "b9550f3e-3cbd-4960-e498-2bccdc90472b"
   },
   "outputs": [],
   "source": [
    "df.info()"
   ]
  },
  {
   "cell_type": "code",
   "execution_count": null,
   "metadata": {
    "colab": {
     "base_uri": "https://localhost:8080/",
     "height": 206
    },
    "executionInfo": {
     "elapsed": 16,
     "status": "ok",
     "timestamp": 1736274674913,
     "user": {
      "displayName": "Atish Kundu",
      "userId": "00008227457038491539"
     },
     "user_tz": -330
    },
    "id": "PCwsp4U753fP",
    "outputId": "c0019ae2-5bfe-4513-af10-1c1737fdbc13"
   },
   "outputs": [],
   "source": [
    "df.head()"
   ]
  },
  {
   "cell_type": "code",
   "execution_count": null,
   "metadata": {
    "colab": {
     "base_uri": "https://localhost:8080/"
    },
    "executionInfo": {
     "elapsed": 15,
     "status": "ok",
     "timestamp": 1736274674913,
     "user": {
      "displayName": "Atish Kundu",
      "userId": "00008227457038491539"
     },
     "user_tz": -330
    },
    "id": "dafLJCl656Os",
    "outputId": "8aaae400-3ce1-486c-e5c9-bd34c433daef"
   },
   "outputs": [],
   "source": [
    "df.columns"
   ]
  },
  {
   "cell_type": "markdown",
   "metadata": {
    "id": "udW4NRThirOS"
   },
   "source": [
    "## **Data processing**"
   ]
  },
  {
   "cell_type": "code",
   "execution_count": null,
   "metadata": {
    "colab": {
     "base_uri": "https://localhost:8080/"
    },
    "executionInfo": {
     "elapsed": 14,
     "status": "ok",
     "timestamp": 1736274674913,
     "user": {
      "displayName": "Atish Kundu",
      "userId": "00008227457038491539"
     },
     "user_tz": -330
    },
    "id": "ibU-60YE5-N1",
    "outputId": "2ecc0388-f463-468b-c77f-40f8b6583085"
   },
   "outputs": [],
   "source": [
    "df.duplicated('CustomerId').sum()"
   ]
  },
  {
   "cell_type": "code",
   "execution_count": 10,
   "metadata": {
    "executionInfo": {
     "elapsed": 14,
     "status": "ok",
     "timestamp": 1736274674913,
     "user": {
      "displayName": "Atish Kundu",
      "userId": "00008227457038491539"
     },
     "user_tz": -330
    },
    "id": "IumibXkS6c42"
   },
   "outputs": [],
   "source": [
    "df = df.set_index('CustomerId')"
   ]
  },
  {
   "cell_type": "code",
   "execution_count": null,
   "metadata": {
    "colab": {
     "base_uri": "https://localhost:8080/",
     "height": 209
    },
    "executionInfo": {
     "elapsed": 14,
     "status": "ok",
     "timestamp": 1736274674913,
     "user": {
      "displayName": "Atish Kundu",
      "userId": "00008227457038491539"
     },
     "user_tz": -330
    },
    "id": "ncdTznGf7HHz",
    "outputId": "64783bcb-e09c-42f1-920a-9dfbee7e9ba1"
   },
   "outputs": [],
   "source": [
    "df['Geography'].value_counts()"
   ]
  },
  {
   "cell_type": "code",
   "execution_count": null,
   "metadata": {
    "colab": {
     "base_uri": "https://localhost:8080/"
    },
    "executionInfo": {
     "elapsed": 13,
     "status": "ok",
     "timestamp": 1736274674913,
     "user": {
      "displayName": "Atish Kundu",
      "userId": "00008227457038491539"
     },
     "user_tz": -330
    },
    "id": "cT3Xik9I7RRT",
    "outputId": "eca60a0c-3a43-4b29-f83a-20612ba62ae2"
   },
   "outputs": [],
   "source": [
    "df.replace({'Geography': {'France':2,'Germany':1,'Spain':0}}, inplace = True)"
   ]
  },
  {
   "cell_type": "code",
   "execution_count": null,
   "metadata": {
    "colab": {
     "base_uri": "https://localhost:8080/",
     "height": 178
    },
    "executionInfo": {
     "elapsed": 12,
     "status": "ok",
     "timestamp": 1736274674913,
     "user": {
      "displayName": "Atish Kundu",
      "userId": "00008227457038491539"
     },
     "user_tz": -330
    },
    "id": "iSRkuhPY7_NF",
    "outputId": "3ce5a8c2-83a1-46dd-94ea-3274bed074f0"
   },
   "outputs": [],
   "source": [
    "df['Gender'].value_counts()"
   ]
  },
  {
   "cell_type": "code",
   "execution_count": null,
   "metadata": {
    "colab": {
     "base_uri": "https://localhost:8080/"
    },
    "executionInfo": {
     "elapsed": 423,
     "status": "ok",
     "timestamp": 1736274675324,
     "user": {
      "displayName": "Atish Kundu",
      "userId": "00008227457038491539"
     },
     "user_tz": -330
    },
    "id": "YmJ34siy7s1u",
    "outputId": "b3d0aaf0-a4ed-411e-ad09-5c6df2f5e8de"
   },
   "outputs": [],
   "source": [
    "df.replace({'Gender': {'Male':0,'Female':1}}, inplace = True)"
   ]
  },
  {
   "cell_type": "code",
   "execution_count": null,
   "metadata": {
    "colab": {
     "base_uri": "https://localhost:8080/",
     "height": 241
    },
    "executionInfo": {
     "elapsed": 423,
     "status": "ok",
     "timestamp": 1736274675325,
     "user": {
      "displayName": "Atish Kundu",
      "userId": "00008227457038491539"
     },
     "user_tz": -330
    },
    "id": "hKNOQqmZ9PKe",
    "outputId": "bb624734-051c-4860-efea-71aa4fbd2ffa"
   },
   "outputs": [],
   "source": [
    "df['Num Of Products'].value_counts()"
   ]
  },
  {
   "cell_type": "code",
   "execution_count": 16,
   "metadata": {
    "executionInfo": {
     "elapsed": 13,
     "status": "ok",
     "timestamp": 1736274675325,
     "user": {
      "displayName": "Atish Kundu",
      "userId": "00008227457038491539"
     },
     "user_tz": -330
    },
    "id": "YN4vsHeq9jZb"
   },
   "outputs": [],
   "source": [
    "df.replace({'Num Of Products':{1:0,2:1,3:1,4:1}},inplace = True)"
   ]
  },
  {
   "cell_type": "code",
   "execution_count": null,
   "metadata": {
    "colab": {
     "base_uri": "https://localhost:8080/",
     "height": 237
    },
    "executionInfo": {
     "elapsed": 12,
     "status": "ok",
     "timestamp": 1736274675325,
     "user": {
      "displayName": "Atish Kundu",
      "userId": "00008227457038491539"
     },
     "user_tz": -330
    },
    "id": "ZKDgFvE097_A",
    "outputId": "c702cab5-4842-4805-b7c2-0b3bb4cac76e"
   },
   "outputs": [],
   "source": [
    "df.head()"
   ]
  },
  {
   "cell_type": "code",
   "execution_count": null,
   "metadata": {
    "colab": {
     "base_uri": "https://localhost:8080/",
     "height": 178
    },
    "executionInfo": {
     "elapsed": 12,
     "status": "ok",
     "timestamp": 1736274675325,
     "user": {
      "displayName": "Atish Kundu",
      "userId": "00008227457038491539"
     },
     "user_tz": -330
    },
    "id": "eiLoroRJ6qPD",
    "outputId": "d979e7bb-240d-4bfa-87a8-481c6d25b9aa"
   },
   "outputs": [],
   "source": [
    "df['Has Credit Card'].value_counts()"
   ]
  },
  {
   "cell_type": "code",
   "execution_count": null,
   "metadata": {
    "colab": {
     "base_uri": "https://localhost:8080/",
     "height": 178
    },
    "executionInfo": {
     "elapsed": 11,
     "status": "ok",
     "timestamp": 1736274675325,
     "user": {
      "displayName": "Atish Kundu",
      "userId": "00008227457038491539"
     },
     "user_tz": -330
    },
    "id": "_BFzDTf68LFC",
    "outputId": "5b131945-4064-440e-8751-ea4f8a5c52bf"
   },
   "outputs": [],
   "source": [
    "df['Is Active Member'].value_counts()"
   ]
  },
  {
   "cell_type": "code",
   "execution_count": null,
   "metadata": {
    "colab": {
     "base_uri": "https://localhost:8080/",
     "height": 178
    },
    "executionInfo": {
     "elapsed": 11,
     "status": "ok",
     "timestamp": 1736274675325,
     "user": {
      "displayName": "Atish Kundu",
      "userId": "00008227457038491539"
     },
     "user_tz": -330
    },
    "id": "75TXw_NC8eNg",
    "outputId": "0c837f1c-61df-4750-98d2-c14817ba5588"
   },
   "outputs": [],
   "source": [
    "df.loc[(df['Balance']==0), 'Churn'].value_counts()"
   ]
  },
  {
   "cell_type": "code",
   "execution_count": 21,
   "metadata": {
    "executionInfo": {
     "elapsed": 400,
     "status": "ok",
     "timestamp": 1736274675715,
     "user": {
      "displayName": "Atish Kundu",
      "userId": "00008227457038491539"
     },
     "user_tz": -330
    },
    "id": "g-o-H3vv9Tdb"
   },
   "outputs": [],
   "source": [
    "df['Zero Balance'] = np.where(df['Balance']>0, 1, 0)"
   ]
  },
  {
   "cell_type": "code",
   "execution_count": null,
   "metadata": {
    "colab": {
     "base_uri": "https://localhost:8080/",
     "height": 448
    },
    "executionInfo": {
     "elapsed": 1127,
     "status": "ok",
     "timestamp": 1736274676840,
     "user": {
      "displayName": "Atish Kundu",
      "userId": "00008227457038491539"
     },
     "user_tz": -330
    },
    "id": "Jhop_M4b9nY7",
    "outputId": "f505a436-d3bf-4ef9-c795-207bb522d1f3"
   },
   "outputs": [],
   "source": [
    "df['Zero Balance'].hist()"
   ]
  },
  {
   "cell_type": "code",
   "execution_count": null,
   "metadata": {
    "colab": {
     "base_uri": "https://localhost:8080/",
     "height": 268
    },
    "executionInfo": {
     "elapsed": 9,
     "status": "ok",
     "timestamp": 1736274676840,
     "user": {
      "displayName": "Atish Kundu",
      "userId": "00008227457038491539"
     },
     "user_tz": -330
    },
    "id": "h9G4lxWA9wn0",
    "outputId": "e33bec11-8f1b-4530-cb59-f3b84312300a"
   },
   "outputs": [],
   "source": [
    "df.groupby(['Churn', 'Geography']).count()"
   ]
  },
  {
   "cell_type": "code",
   "execution_count": null,
   "metadata": {
    "colab": {
     "base_uri": "https://localhost:8080/"
    },
    "executionInfo": {
     "elapsed": 8,
     "status": "ok",
     "timestamp": 1736274676840,
     "user": {
      "displayName": "Atish Kundu",
      "userId": "00008227457038491539"
     },
     "user_tz": -330
    },
    "id": "SDHLZRW4-UUZ",
    "outputId": "f97f65d8-3a45-4b36-85d3-a9674798b479"
   },
   "outputs": [],
   "source": [
    "df.columns"
   ]
  },
  {
   "cell_type": "markdown",
   "metadata": {
    "id": "aaUNyxd2i7Jx"
   },
   "source": [
    "## **Define Target Variable (y) and Feature Variables (X)**"
   ]
  },
  {
   "cell_type": "markdown",
   "metadata": {
    "id": "uJK2xgxcjUtH"
   },
   "source": [
    "### Normal Modeling"
   ]
  },
  {
   "cell_type": "code",
   "execution_count": 25,
   "metadata": {
    "executionInfo": {
     "elapsed": 7,
     "status": "ok",
     "timestamp": 1736274676840,
     "user": {
      "displayName": "Atish Kundu",
      "userId": "00008227457038491539"
     },
     "user_tz": -330
    },
    "id": "y39UouM6-fGc"
   },
   "outputs": [],
   "source": [
    "x = df.drop(['Surname','Churn'],axis = 1)"
   ]
  },
  {
   "cell_type": "code",
   "execution_count": 26,
   "metadata": {
    "executionInfo": {
     "elapsed": 8,
     "status": "ok",
     "timestamp": 1736274676841,
     "user": {
      "displayName": "Atish Kundu",
      "userId": "00008227457038491539"
     },
     "user_tz": -330
    },
    "id": "DquNcio9-yXy"
   },
   "outputs": [],
   "source": [
    "y = df['Churn']"
   ]
  },
  {
   "cell_type": "code",
   "execution_count": null,
   "metadata": {
    "colab": {
     "base_uri": "https://localhost:8080/"
    },
    "executionInfo": {
     "elapsed": 8,
     "status": "ok",
     "timestamp": 1736274676841,
     "user": {
      "displayName": "Atish Kundu",
      "userId": "00008227457038491539"
     },
     "user_tz": -330
    },
    "id": "psN5rvUY-5QV",
    "outputId": "16d79f08-1a62-42ca-d6f0-e3f7714485c1"
   },
   "outputs": [],
   "source": [
    "x.shape, y.shape"
   ]
  },
  {
   "cell_type": "code",
   "execution_count": null,
   "metadata": {
    "colab": {
     "base_uri": "https://localhost:8080/",
     "height": 178
    },
    "executionInfo": {
     "elapsed": 8,
     "status": "ok",
     "timestamp": 1736274676841,
     "user": {
      "displayName": "Atish Kundu",
      "userId": "00008227457038491539"
     },
     "user_tz": -330
    },
    "id": "hc7qxnrU_54v",
    "outputId": "df08e4e6-4f46-4a4f-fed4-bc4f022639d4"
   },
   "outputs": [],
   "source": [
    "df['Churn'].value_counts()"
   ]
  },
  {
   "cell_type": "code",
   "execution_count": null,
   "metadata": {
    "colab": {
     "base_uri": "https://localhost:8080/",
     "height": 467
    },
    "executionInfo": {
     "elapsed": 492,
     "status": "ok",
     "timestamp": 1736274677326,
     "user": {
      "displayName": "Atish Kundu",
      "userId": "00008227457038491539"
     },
     "user_tz": -330
    },
    "id": "NiRRaDiCAEYV",
    "outputId": "011fd551-90e9-4b1e-c761-058d2760ab78"
   },
   "outputs": [],
   "source": [
    "sns.countplot(x='Churn', data = df)"
   ]
  },
  {
   "cell_type": "code",
   "execution_count": null,
   "metadata": {
    "colab": {
     "base_uri": "https://localhost:8080/"
    },
    "executionInfo": {
     "elapsed": 10,
     "status": "ok",
     "timestamp": 1736274677327,
     "user": {
      "displayName": "Atish Kundu",
      "userId": "00008227457038491539"
     },
     "user_tz": -330
    },
    "id": "aP1KVtRkAXCq",
    "outputId": "73aa503f-2e25-4d5d-f0e0-fa53cfaa273e"
   },
   "outputs": [],
   "source": [
    "x.shape, y.shape"
   ]
  },
  {
   "cell_type": "markdown",
   "metadata": {
    "id": "mXIRPiMfkKjR"
   },
   "source": [
    "### Random Under Sampling"
   ]
  },
  {
   "cell_type": "code",
   "execution_count": 31,
   "metadata": {
    "executionInfo": {
     "elapsed": 4595,
     "status": "ok",
     "timestamp": 1736274681914,
     "user": {
      "displayName": "Atish Kundu",
      "userId": "00008227457038491539"
     },
     "user_tz": -330
    },
    "id": "9YklG5_pAgGY"
   },
   "outputs": [],
   "source": [
    "from imblearn.under_sampling import RandomUnderSampler"
   ]
  },
  {
   "cell_type": "code",
   "execution_count": 32,
   "metadata": {
    "executionInfo": {
     "elapsed": 12,
     "status": "ok",
     "timestamp": 1736274681915,
     "user": {
      "displayName": "Atish Kundu",
      "userId": "00008227457038491539"
     },
     "user_tz": -330
    },
    "id": "FpAOUUf1CDaF"
   },
   "outputs": [],
   "source": [
    "rus = RandomUnderSampler(random_state=2529)"
   ]
  },
  {
   "cell_type": "code",
   "execution_count": null,
   "metadata": {
    "colab": {
     "base_uri": "https://localhost:8080/"
    },
    "executionInfo": {
     "elapsed": 11,
     "status": "ok",
     "timestamp": 1736274681915,
     "user": {
      "displayName": "Atish Kundu",
      "userId": "00008227457038491539"
     },
     "user_tz": -330
    },
    "id": "P3UJPC3JCNGO",
    "outputId": "8f23545d-2dd9-4771-f379-f9b85af54a6d"
   },
   "outputs": [],
   "source": [
    "x_rus,y_rus = rus.fit_resample(x,y)"
   ]
  },
  {
   "cell_type": "code",
   "execution_count": null,
   "metadata": {
    "colab": {
     "base_uri": "https://localhost:8080/"
    },
    "executionInfo": {
     "elapsed": 10,
     "status": "ok",
     "timestamp": 1736274681915,
     "user": {
      "displayName": "Atish Kundu",
      "userId": "00008227457038491539"
     },
     "user_tz": -330
    },
    "id": "nFkvvGZnCpl5",
    "outputId": "63ffbb79-9496-432a-9c13-ee4a05468ea3"
   },
   "outputs": [],
   "source": [
    "x_rus.shape, y_rus.shape,x.shape,y.shape"
   ]
  },
  {
   "cell_type": "code",
   "execution_count": null,
   "metadata": {
    "colab": {
     "base_uri": "https://localhost:8080/",
     "height": 178
    },
    "executionInfo": {
     "elapsed": 8,
     "status": "ok",
     "timestamp": 1736274681915,
     "user": {
      "displayName": "Atish Kundu",
      "userId": "00008227457038491539"
     },
     "user_tz": -330
    },
    "id": "S_8PWN1MDx75",
    "outputId": "2718da3d-ff23-4108-e368-7e31a0343c53"
   },
   "outputs": [],
   "source": [
    "y.value_counts()"
   ]
  },
  {
   "cell_type": "code",
   "execution_count": null,
   "metadata": {
    "colab": {
     "base_uri": "https://localhost:8080/",
     "height": 178
    },
    "executionInfo": {
     "elapsed": 8,
     "status": "ok",
     "timestamp": 1736274681915,
     "user": {
      "displayName": "Atish Kundu",
      "userId": "00008227457038491539"
     },
     "user_tz": -330
    },
    "id": "n_76SzYMD4A6",
    "outputId": "5af52c71-2a9f-4cd2-da24-e4608bdbbbed"
   },
   "outputs": [],
   "source": [
    "y_rus.value_counts()"
   ]
  },
  {
   "cell_type": "code",
   "execution_count": null,
   "metadata": {
    "colab": {
     "base_uri": "https://localhost:8080/",
     "height": 448
    },
    "executionInfo": {
     "elapsed": 1397,
     "status": "ok",
     "timestamp": 1736274683305,
     "user": {
      "displayName": "Atish Kundu",
      "userId": "00008227457038491539"
     },
     "user_tz": -330
    },
    "id": "a0U6G8FMEAro",
    "outputId": "bb8b249f-944c-439d-8b13-11f84ea981b0"
   },
   "outputs": [],
   "source": [
    "y_rus.plot(kind = 'hist')"
   ]
  },
  {
   "cell_type": "markdown",
   "metadata": {
    "id": "rWAq2cLfkWge"
   },
   "source": [
    "### Random Over Sampling"
   ]
  },
  {
   "cell_type": "code",
   "execution_count": 38,
   "metadata": {
    "executionInfo": {
     "elapsed": 14,
     "status": "ok",
     "timestamp": 1736274683305,
     "user": {
      "displayName": "Atish Kundu",
      "userId": "00008227457038491539"
     },
     "user_tz": -330
    },
    "id": "q9GsGZ4EEojt"
   },
   "outputs": [],
   "source": [
    "from imblearn.over_sampling import RandomOverSampler"
   ]
  },
  {
   "cell_type": "code",
   "execution_count": 39,
   "metadata": {
    "executionInfo": {
     "elapsed": 15,
     "status": "ok",
     "timestamp": 1736274683306,
     "user": {
      "displayName": "Atish Kundu",
      "userId": "00008227457038491539"
     },
     "user_tz": -330
    },
    "id": "ZBMyw7QbExsZ"
   },
   "outputs": [],
   "source": [
    "ros = RandomOverSampler(random_state=2529)"
   ]
  },
  {
   "cell_type": "code",
   "execution_count": null,
   "metadata": {
    "colab": {
     "base_uri": "https://localhost:8080/"
    },
    "executionInfo": {
     "elapsed": 15,
     "status": "ok",
     "timestamp": 1736274683306,
     "user": {
      "displayName": "Atish Kundu",
      "userId": "00008227457038491539"
     },
     "user_tz": -330
    },
    "id": "LJGYJELTE1ms",
    "outputId": "f160aeec-6248-462f-9648-9743a57ac4ad"
   },
   "outputs": [],
   "source": [
    "x_ros,y_ros = ros.fit_resample(x,y)"
   ]
  },
  {
   "cell_type": "code",
   "execution_count": null,
   "metadata": {
    "colab": {
     "base_uri": "https://localhost:8080/"
    },
    "executionInfo": {
     "elapsed": 12,
     "status": "ok",
     "timestamp": 1736274683306,
     "user": {
      "displayName": "Atish Kundu",
      "userId": "00008227457038491539"
     },
     "user_tz": -330
    },
    "id": "Fi7cPRjME_iG",
    "outputId": "a8c04c97-be5f-4840-fa94-b103eccc9d6d"
   },
   "outputs": [],
   "source": [
    "x_ros.shape, y_ros.shape,x.shape,y.shape"
   ]
  },
  {
   "cell_type": "code",
   "execution_count": null,
   "metadata": {
    "colab": {
     "base_uri": "https://localhost:8080/",
     "height": 178
    },
    "executionInfo": {
     "elapsed": 10,
     "status": "ok",
     "timestamp": 1736274683306,
     "user": {
      "displayName": "Atish Kundu",
      "userId": "00008227457038491539"
     },
     "user_tz": -330
    },
    "id": "ZbcSJoC5FKLU",
    "outputId": "4cc4f3c3-8ada-4fa0-d9d3-9613a9eddb4a"
   },
   "outputs": [],
   "source": [
    "y.value_counts()"
   ]
  },
  {
   "cell_type": "code",
   "execution_count": null,
   "metadata": {
    "colab": {
     "base_uri": "https://localhost:8080/",
     "height": 178
    },
    "executionInfo": {
     "elapsed": 10,
     "status": "ok",
     "timestamp": 1736274683306,
     "user": {
      "displayName": "Atish Kundu",
      "userId": "00008227457038491539"
     },
     "user_tz": -330
    },
    "id": "OFML6QbKFLYU",
    "outputId": "ac3332e9-bee9-4311-80aa-69a2403ceb77"
   },
   "outputs": [],
   "source": [
    "y_ros.value_counts()"
   ]
  },
  {
   "cell_type": "code",
   "execution_count": null,
   "metadata": {
    "colab": {
     "base_uri": "https://localhost:8080/",
     "height": 448
    },
    "executionInfo": {
     "elapsed": 1314,
     "status": "ok",
     "timestamp": 1736274684611,
     "user": {
      "displayName": "Atish Kundu",
      "userId": "00008227457038491539"
     },
     "user_tz": -330
    },
    "id": "fmlXalC1FRkE",
    "outputId": "a33bdb47-f770-41c6-a761-6e31947f8e70"
   },
   "outputs": [],
   "source": [
    "y_ros.plot(kind = 'hist')"
   ]
  },
  {
   "cell_type": "markdown",
   "metadata": {
    "id": "WrfTw-QgkrCf"
   },
   "source": [
    "## **Train Test Split**"
   ]
  },
  {
   "cell_type": "code",
   "execution_count": 45,
   "metadata": {
    "executionInfo": {
     "elapsed": 8,
     "status": "ok",
     "timestamp": 1736274684611,
     "user": {
      "displayName": "Atish Kundu",
      "userId": "00008227457038491539"
     },
     "user_tz": -330
    },
    "id": "RqNvClF-FXgw"
   },
   "outputs": [],
   "source": [
    "from sklearn.model_selection import train_test_split"
   ]
  },
  {
   "cell_type": "code",
   "execution_count": 46,
   "metadata": {
    "executionInfo": {
     "elapsed": 9,
     "status": "ok",
     "timestamp": 1736274684612,
     "user": {
      "displayName": "Atish Kundu",
      "userId": "00008227457038491539"
     },
     "user_tz": -330
    },
    "id": "DesJJsvdFjN4"
   },
   "outputs": [],
   "source": [
    "x_train,x_test,y_train,y_test = train_test_split(x,y,test_size = 0.3, random_state = 2529)"
   ]
  },
  {
   "cell_type": "code",
   "execution_count": 47,
   "metadata": {
    "executionInfo": {
     "elapsed": 8,
     "status": "ok",
     "timestamp": 1736274684612,
     "user": {
      "displayName": "Atish Kundu",
      "userId": "00008227457038491539"
     },
     "user_tz": -330
    },
    "id": "GcVUOahMF8pr"
   },
   "outputs": [],
   "source": [
    "x_train_rus,x_test_rus,y_train_rus,y_test_rus = train_test_split(x_rus,y_rus,test_size = 0.3, random_state = 2529)"
   ]
  },
  {
   "cell_type": "code",
   "execution_count": 48,
   "metadata": {
    "executionInfo": {
     "elapsed": 8,
     "status": "ok",
     "timestamp": 1736274684612,
     "user": {
      "displayName": "Atish Kundu",
      "userId": "00008227457038491539"
     },
     "user_tz": -330
    },
    "id": "HwllSxhkFqGJ"
   },
   "outputs": [],
   "source": [
    "x_train_ros,x_test_ros,y_train_ros,y_test_ros = train_test_split(x_ros,y_ros,test_size = 0.3, random_state = 2529)"
   ]
  },
  {
   "cell_type": "code",
   "execution_count": null,
   "metadata": {
    "colab": {
     "base_uri": "https://localhost:8080/"
    },
    "executionInfo": {
     "elapsed": 8,
     "status": "ok",
     "timestamp": 1736274684612,
     "user": {
      "displayName": "Atish Kundu",
      "userId": "00008227457038491539"
     },
     "user_tz": -330
    },
    "id": "3ijuuSMlGG1P",
    "outputId": "68fd08c1-9277-42e0-b0a9-99a7dc60f640"
   },
   "outputs": [],
   "source": [
    "x_train.columns"
   ]
  },
  {
   "cell_type": "code",
   "execution_count": 50,
   "metadata": {
    "executionInfo": {
     "elapsed": 7,
     "status": "ok",
     "timestamp": 1736274684612,
     "user": {
      "displayName": "Atish Kundu",
      "userId": "00008227457038491539"
     },
     "user_tz": -330
    },
    "id": "w3v6aBfiGk5d"
   },
   "outputs": [],
   "source": [
    "from sklearn.preprocessing import StandardScaler"
   ]
  },
  {
   "cell_type": "code",
   "execution_count": 51,
   "metadata": {
    "executionInfo": {
     "elapsed": 6,
     "status": "ok",
     "timestamp": 1736274684612,
     "user": {
      "displayName": "Atish Kundu",
      "userId": "00008227457038491539"
     },
     "user_tz": -330
    },
    "id": "s0yY_e8bIDic"
   },
   "outputs": [],
   "source": [
    "sc = StandardScaler()"
   ]
  },
  {
   "cell_type": "code",
   "execution_count": 52,
   "metadata": {
    "executionInfo": {
     "elapsed": 6,
     "status": "ok",
     "timestamp": 1736274684612,
     "user": {
      "displayName": "Atish Kundu",
      "userId": "00008227457038491539"
     },
     "user_tz": -330
    },
    "id": "9zjIfLdHGx_U"
   },
   "outputs": [],
   "source": [
    "x_train[['CreditScore', 'Age', 'Tenure', 'Balance', 'Estimated Salary']] = sc.fit_transform(x_train[['CreditScore', 'Age', 'Tenure', 'Balance', 'Estimated Salary']])"
   ]
  },
  {
   "cell_type": "code",
   "execution_count": 53,
   "metadata": {
    "executionInfo": {
     "elapsed": 6,
     "status": "ok",
     "timestamp": 1736274684612,
     "user": {
      "displayName": "Atish Kundu",
      "userId": "00008227457038491539"
     },
     "user_tz": -330
    },
    "id": "mBSkKI8MIxmx"
   },
   "outputs": [],
   "source": [
    "x_test[['CreditScore', 'Age', 'Tenure', 'Balance', 'Estimated Salary']] = sc.fit_transform(x_test[['CreditScore', 'Age', 'Tenure', 'Balance', 'Estimated Salary']])"
   ]
  },
  {
   "cell_type": "code",
   "execution_count": 54,
   "metadata": {
    "executionInfo": {
     "elapsed": 6,
     "status": "ok",
     "timestamp": 1736274684612,
     "user": {
      "displayName": "Atish Kundu",
      "userId": "00008227457038491539"
     },
     "user_tz": -330
    },
    "id": "cwawMrioI5fS"
   },
   "outputs": [],
   "source": [
    "x_train_rus[['CreditScore', 'Age', 'Tenure', 'Balance', 'Estimated Salary']] = sc.fit_transform(x_train_rus[['CreditScore', 'Age', 'Tenure', 'Balance', 'Estimated Salary']])"
   ]
  },
  {
   "cell_type": "code",
   "execution_count": 55,
   "metadata": {
    "executionInfo": {
     "elapsed": 5,
     "status": "ok",
     "timestamp": 1736274684612,
     "user": {
      "displayName": "Atish Kundu",
      "userId": "00008227457038491539"
     },
     "user_tz": -330
    },
    "id": "Z5wQSbFzI-z6"
   },
   "outputs": [],
   "source": [
    "x_test_rus[['CreditScore', 'Age', 'Tenure', 'Balance', 'Estimated Salary']] = sc.fit_transform(x_test_rus[['CreditScore', 'Age', 'Tenure', 'Balance', 'Estimated Salary']])"
   ]
  },
  {
   "cell_type": "code",
   "execution_count": 56,
   "metadata": {
    "executionInfo": {
     "elapsed": 5,
     "status": "ok",
     "timestamp": 1736274684612,
     "user": {
      "displayName": "Atish Kundu",
      "userId": "00008227457038491539"
     },
     "user_tz": -330
    },
    "id": "RX6bDw-HJEKl"
   },
   "outputs": [],
   "source": [
    "x_train_ros[['CreditScore', 'Age', 'Tenure', 'Balance', 'Estimated Salary']] = sc.fit_transform(x_train_ros[['CreditScore', 'Age', 'Tenure', 'Balance', 'Estimated Salary']])"
   ]
  },
  {
   "cell_type": "code",
   "execution_count": 57,
   "metadata": {
    "executionInfo": {
     "elapsed": 4,
     "status": "ok",
     "timestamp": 1736274684612,
     "user": {
      "displayName": "Atish Kundu",
      "userId": "00008227457038491539"
     },
     "user_tz": -330
    },
    "id": "nPaTxV-QJLWV"
   },
   "outputs": [],
   "source": [
    "x_test_ros[['CreditScore', 'Age', 'Tenure', 'Balance', 'Estimated Salary']] = sc.fit_transform(x_test_ros[['CreditScore', 'Age', 'Tenure', 'Balance', 'Estimated Salary']])"
   ]
  },
  {
   "cell_type": "markdown",
   "metadata": {
    "id": "0UNCvyWQlFWg"
   },
   "source": [
    "## **Model Evaluation and Prediction**"
   ]
  },
  {
   "cell_type": "code",
   "execution_count": 58,
   "metadata": {
    "executionInfo": {
     "elapsed": 406,
     "status": "ok",
     "timestamp": 1736274685014,
     "user": {
      "displayName": "Atish Kundu",
      "userId": "00008227457038491539"
     },
     "user_tz": -330
    },
    "id": "3XRzFssUJljV"
   },
   "outputs": [],
   "source": [
    "from sklearn.svm import SVC"
   ]
  },
  {
   "cell_type": "markdown",
   "metadata": {
    "id": "MqicJXU8lR82"
   },
   "source": [
    "### **Normal model**"
   ]
  },
  {
   "cell_type": "code",
   "execution_count": 59,
   "metadata": {
    "executionInfo": {
     "elapsed": 2,
     "status": "ok",
     "timestamp": 1736274685014,
     "user": {
      "displayName": "Atish Kundu",
      "userId": "00008227457038491539"
     },
     "user_tz": -330
    },
    "id": "G3ckgBtAJxDt"
   },
   "outputs": [],
   "source": [
    "svc = SVC()"
   ]
  },
  {
   "cell_type": "code",
   "execution_count": null,
   "metadata": {
    "colab": {
     "base_uri": "https://localhost:8080/",
     "height": 80
    },
    "executionInfo": {
     "elapsed": 2798,
     "status": "ok",
     "timestamp": 1736274687811,
     "user": {
      "displayName": "Atish Kundu",
      "userId": "00008227457038491539"
     },
     "user_tz": -330
    },
    "id": "wiQe-X8QJ3i_",
    "outputId": "ceecdf31-1144-4db5-c6ed-b4d1d755be88"
   },
   "outputs": [],
   "source": [
    "svc.fit(x_train,y_train)"
   ]
  },
  {
   "cell_type": "code",
   "execution_count": 61,
   "metadata": {
    "executionInfo": {
     "elapsed": 1712,
     "status": "ok",
     "timestamp": 1736274689520,
     "user": {
      "displayName": "Atish Kundu",
      "userId": "00008227457038491539"
     },
     "user_tz": -330
    },
    "id": "a91D2ehpKHx-"
   },
   "outputs": [],
   "source": [
    "y_pred = svc.predict(x_test)"
   ]
  },
  {
   "cell_type": "code",
   "execution_count": 62,
   "metadata": {
    "executionInfo": {
     "elapsed": 10,
     "status": "ok",
     "timestamp": 1736274689521,
     "user": {
      "displayName": "Atish Kundu",
      "userId": "00008227457038491539"
     },
     "user_tz": -330
    },
    "id": "_lKqF268MWCb"
   },
   "outputs": [],
   "source": [
    "from sklearn.metrics import confusion_matrix, classification_report"
   ]
  },
  {
   "cell_type": "code",
   "execution_count": null,
   "metadata": {
    "colab": {
     "base_uri": "https://localhost:8080/"
    },
    "executionInfo": {
     "elapsed": 9,
     "status": "ok",
     "timestamp": 1736274689521,
     "user": {
      "displayName": "Atish Kundu",
      "userId": "00008227457038491539"
     },
     "user_tz": -330
    },
    "id": "dRPzgFcvLWqq",
    "outputId": "c05929cb-88cf-4182-f8eb-1ba33b151031"
   },
   "outputs": [],
   "source": [
    "confusion_matrix(y_test,y_pred)"
   ]
  },
  {
   "cell_type": "code",
   "execution_count": null,
   "metadata": {
    "colab": {
     "base_uri": "https://localhost:8080/"
    },
    "executionInfo": {
     "elapsed": 8,
     "status": "ok",
     "timestamp": 1736274689521,
     "user": {
      "displayName": "Atish Kundu",
      "userId": "00008227457038491539"
     },
     "user_tz": -330
    },
    "id": "IUU96dnDLTMd",
    "outputId": "fb024aeb-f2a6-4be9-bde7-bf8d16e5e9ab"
   },
   "outputs": [],
   "source": [
    "print(classification_report(y_test,y_pred))"
   ]
  },
  {
   "cell_type": "markdown",
   "metadata": {
    "id": "Ne4KRuTjlYIG"
   },
   "source": [
    "### Hyperparameter tuning(Normal)"
   ]
  },
  {
   "cell_type": "code",
   "execution_count": 65,
   "metadata": {
    "executionInfo": {
     "elapsed": 5,
     "status": "ok",
     "timestamp": 1736274689521,
     "user": {
      "displayName": "Atish Kundu",
      "userId": "00008227457038491539"
     },
     "user_tz": -330
    },
    "id": "z-tXJdYvR5IO"
   },
   "outputs": [],
   "source": [
    "from sklearn.model_selection import GridSearchCV"
   ]
  },
  {
   "cell_type": "code",
   "execution_count": 66,
   "metadata": {
    "executionInfo": {
     "elapsed": 5,
     "status": "ok",
     "timestamp": 1736274689521,
     "user": {
      "displayName": "Atish Kundu",
      "userId": "00008227457038491539"
     },
     "user_tz": -330
    },
    "id": "8JT7Rov7SFXZ"
   },
   "outputs": [],
   "source": [
    "param_grid = {'C' : [0.1,1,10],\n",
    "              'gamma' : [1,0.1,0.01],\n",
    "              'kernel' : ['rbf'],\n",
    "              'class_weight' : ['balanced']}"
   ]
  },
  {
   "cell_type": "code",
   "execution_count": null,
   "metadata": {
    "colab": {
     "base_uri": "https://localhost:8080/",
     "height": 508
    },
    "executionInfo": {
     "elapsed": 30180,
     "status": "ok",
     "timestamp": 1736274719696,
     "user": {
      "displayName": "Atish Kundu",
      "userId": "00008227457038491539"
     },
     "user_tz": -330
    },
    "id": "XkoYoHmQShcW",
    "outputId": "372f528c-6260-4de5-e5ff-5f848bbb1256"
   },
   "outputs": [],
   "source": [
    "grid = GridSearchCV(SVC(),param_grid,refit=True,verbose=2,cv=2)\n",
    "grid.fit(x_train,y_train)"
   ]
  },
  {
   "cell_type": "code",
   "execution_count": null,
   "metadata": {
    "colab": {
     "base_uri": "https://localhost:8080/"
    },
    "executionInfo": {
     "elapsed": 3,
     "status": "ok",
     "timestamp": 1736274719696,
     "user": {
      "displayName": "Atish Kundu",
      "userId": "00008227457038491539"
     },
     "user_tz": -330
    },
    "id": "1eisasKtTLCC",
    "outputId": "cb25a98d-505c-4982-acb9-028052725359"
   },
   "outputs": [],
   "source": [
    "print(grid.best_estimator_)"
   ]
  },
  {
   "cell_type": "code",
   "execution_count": 69,
   "metadata": {
    "executionInfo": {
     "elapsed": 803,
     "status": "ok",
     "timestamp": 1736274720497,
     "user": {
      "displayName": "Atish Kundu",
      "userId": "00008227457038491539"
     },
     "user_tz": -330
    },
    "id": "1-2-SOj2TYp6"
   },
   "outputs": [],
   "source": [
    "grid_predictions = grid.predict(x_test)"
   ]
  },
  {
   "cell_type": "code",
   "execution_count": null,
   "metadata": {
    "colab": {
     "base_uri": "https://localhost:8080/"
    },
    "executionInfo": {
     "elapsed": 5,
     "status": "ok",
     "timestamp": 1736274720497,
     "user": {
      "displayName": "Atish Kundu",
      "userId": "00008227457038491539"
     },
     "user_tz": -330
    },
    "id": "TYz2mF52ThuI",
    "outputId": "19003e5b-93cb-4ea9-fcd8-d1f41248c254"
   },
   "outputs": [],
   "source": [
    "confusion_matrix(y_test,grid_predictions)"
   ]
  },
  {
   "cell_type": "code",
   "execution_count": null,
   "metadata": {
    "colab": {
     "base_uri": "https://localhost:8080/"
    },
    "executionInfo": {
     "elapsed": 4,
     "status": "ok",
     "timestamp": 1736274720497,
     "user": {
      "displayName": "Atish Kundu",
      "userId": "00008227457038491539"
     },
     "user_tz": -330
    },
    "id": "0qAsUHcBTnF1",
    "outputId": "7ba43f86-013f-496a-97be-d1a88538c551"
   },
   "outputs": [],
   "source": [
    "print(classification_report(y_test,grid_predictions))"
   ]
  },
  {
   "cell_type": "markdown",
   "metadata": {
    "id": "q1nLdud3lozM"
   },
   "source": [
    "### **Random Under Sampling**"
   ]
  },
  {
   "cell_type": "code",
   "execution_count": null,
   "metadata": {
    "colab": {
     "base_uri": "https://localhost:8080/",
     "height": 80
    },
    "executionInfo": {
     "elapsed": 460,
     "status": "ok",
     "timestamp": 1736274720954,
     "user": {
      "displayName": "Atish Kundu",
      "userId": "00008227457038491539"
     },
     "user_tz": -330
    },
    "id": "Ausw_n-XUFeg",
    "outputId": "abfc4e6a-0a35-45c4-a8b5-58b2f652b567"
   },
   "outputs": [],
   "source": [
    "svc.fit(x_train_rus,y_train_rus)"
   ]
  },
  {
   "cell_type": "code",
   "execution_count": 73,
   "metadata": {
    "executionInfo": {
     "elapsed": 8,
     "status": "ok",
     "timestamp": 1736274720954,
     "user": {
      "displayName": "Atish Kundu",
      "userId": "00008227457038491539"
     },
     "user_tz": -330
    },
    "id": "gf90jOS3UJG-"
   },
   "outputs": [],
   "source": [
    "y_pred_rus = svc.predict(x_test_rus)"
   ]
  },
  {
   "cell_type": "code",
   "execution_count": null,
   "metadata": {
    "colab": {
     "base_uri": "https://localhost:8080/"
    },
    "executionInfo": {
     "elapsed": 8,
     "status": "ok",
     "timestamp": 1736274720954,
     "user": {
      "displayName": "Atish Kundu",
      "userId": "00008227457038491539"
     },
     "user_tz": -330
    },
    "id": "6fzI2h2YUPcI",
    "outputId": "c3c4a6a6-57dc-4596-d778-0de87501fd85"
   },
   "outputs": [],
   "source": [
    "confusion_matrix(y_test_rus,y_pred_rus)"
   ]
  },
  {
   "cell_type": "code",
   "execution_count": null,
   "metadata": {
    "colab": {
     "base_uri": "https://localhost:8080/"
    },
    "executionInfo": {
     "elapsed": 7,
     "status": "ok",
     "timestamp": 1736274720954,
     "user": {
      "displayName": "Atish Kundu",
      "userId": "00008227457038491539"
     },
     "user_tz": -330
    },
    "id": "jBYwAVYgUbmn",
    "outputId": "71e85292-3f61-4d4b-ea09-c50c82d40aea"
   },
   "outputs": [],
   "source": [
    "print(classification_report(y_test_rus,y_pred_rus))"
   ]
  },
  {
   "cell_type": "markdown",
   "metadata": {
    "id": "PSbmSNG6mbxW"
   },
   "source": [
    "### Hyperparameter Tuning(RUS)"
   ]
  },
  {
   "cell_type": "code",
   "execution_count": null,
   "metadata": {
    "colab": {
     "base_uri": "https://localhost:8080/",
     "height": 508
    },
    "executionInfo": {
     "elapsed": 5746,
     "status": "ok",
     "timestamp": 1736274726695,
     "user": {
      "displayName": "Atish Kundu",
      "userId": "00008227457038491539"
     },
     "user_tz": -330
    },
    "id": "z8uiMvQ2Ulcd",
    "outputId": "83d098bb-8c89-4a0a-ab80-222df60aa633"
   },
   "outputs": [],
   "source": [
    "grid_rus = GridSearchCV(SVC(),param_grid,refit=True,verbose=2,cv=2)\n",
    "grid_rus.fit(x_train_rus,y_train_rus)"
   ]
  },
  {
   "cell_type": "code",
   "execution_count": null,
   "metadata": {
    "colab": {
     "base_uri": "https://localhost:8080/"
    },
    "executionInfo": {
     "elapsed": 7,
     "status": "ok",
     "timestamp": 1736274726695,
     "user": {
      "displayName": "Atish Kundu",
      "userId": "00008227457038491539"
     },
     "user_tz": -330
    },
    "id": "jZ-sWSEpU4hs",
    "outputId": "b616c36c-2d3a-471c-a95b-2f494b8540b2"
   },
   "outputs": [],
   "source": [
    "print(grid_rus.best_estimator_)"
   ]
  },
  {
   "cell_type": "code",
   "execution_count": 78,
   "metadata": {
    "executionInfo": {
     "elapsed": 6,
     "status": "ok",
     "timestamp": 1736274726695,
     "user": {
      "displayName": "Atish Kundu",
      "userId": "00008227457038491539"
     },
     "user_tz": -330
    },
    "id": "6kz8daIPVT0a"
   },
   "outputs": [],
   "source": [
    "grid_pred_rus = grid_rus.predict(x_test_rus)"
   ]
  },
  {
   "cell_type": "code",
   "execution_count": null,
   "metadata": {
    "colab": {
     "base_uri": "https://localhost:8080/"
    },
    "executionInfo": {
     "elapsed": 6,
     "status": "ok",
     "timestamp": 1736274726695,
     "user": {
      "displayName": "Atish Kundu",
      "userId": "00008227457038491539"
     },
     "user_tz": -330
    },
    "id": "Xh_WmL9yVcte",
    "outputId": "1878cf13-6748-487c-909b-f33afc995ac3"
   },
   "outputs": [],
   "source": [
    "confusion_matrix(y_test_rus,grid_pred_rus)"
   ]
  },
  {
   "cell_type": "code",
   "execution_count": null,
   "metadata": {
    "colab": {
     "base_uri": "https://localhost:8080/"
    },
    "executionInfo": {
     "elapsed": 5,
     "status": "ok",
     "timestamp": 1736274726695,
     "user": {
      "displayName": "Atish Kundu",
      "userId": "00008227457038491539"
     },
     "user_tz": -330
    },
    "id": "O9HwdtZEVgFO",
    "outputId": "4f01687f-97ab-4d39-c9b5-7a4cae8041c0"
   },
   "outputs": [],
   "source": [
    "print(classification_report(y_test_rus,grid_pred_rus))"
   ]
  },
  {
   "cell_type": "markdown",
   "metadata": {
    "id": "_h3lKELzmtCY"
   },
   "source": [
    "### **Random Over Sampling**"
   ]
  },
  {
   "cell_type": "code",
   "execution_count": null,
   "metadata": {
    "colab": {
     "base_uri": "https://localhost:8080/",
     "height": 80
    },
    "executionInfo": {
     "elapsed": 5024,
     "status": "ok",
     "timestamp": 1736274731715,
     "user": {
      "displayName": "Atish Kundu",
      "userId": "00008227457038491539"
     },
     "user_tz": -330
    },
    "id": "vrlYqGhAVpuJ",
    "outputId": "83fe9e38-7f28-4568-de86-323ec1a7db98"
   },
   "outputs": [],
   "source": [
    "svc.fit(x_train_ros,y_train_ros)"
   ]
  },
  {
   "cell_type": "code",
   "execution_count": 82,
   "metadata": {
    "executionInfo": {
     "elapsed": 1759,
     "status": "ok",
     "timestamp": 1736274733467,
     "user": {
      "displayName": "Atish Kundu",
      "userId": "00008227457038491539"
     },
     "user_tz": -330
    },
    "id": "e4fYTG0LV0jT"
   },
   "outputs": [],
   "source": [
    "y_pred_ros = svc.predict(x_test_ros)"
   ]
  },
  {
   "cell_type": "code",
   "execution_count": null,
   "metadata": {
    "colab": {
     "base_uri": "https://localhost:8080/"
    },
    "executionInfo": {
     "elapsed": 5,
     "status": "ok",
     "timestamp": 1736274733467,
     "user": {
      "displayName": "Atish Kundu",
      "userId": "00008227457038491539"
     },
     "user_tz": -330
    },
    "id": "iF_v9tdIV5nV",
    "outputId": "95a9d202-5425-4920-afc2-9a74fec20a2b"
   },
   "outputs": [],
   "source": [
    "confusion_matrix(y_test_ros,y_pred_ros)"
   ]
  },
  {
   "cell_type": "code",
   "execution_count": null,
   "metadata": {
    "colab": {
     "base_uri": "https://localhost:8080/"
    },
    "executionInfo": {
     "elapsed": 4,
     "status": "ok",
     "timestamp": 1736274733467,
     "user": {
      "displayName": "Atish Kundu",
      "userId": "00008227457038491539"
     },
     "user_tz": -330
    },
    "id": "dRFmWbrlV8hT",
    "outputId": "ea16ad7a-9d6a-4ef2-c85e-3efbaf91ad25"
   },
   "outputs": [],
   "source": [
    "print(classification_report(y_test_ros,y_pred_ros))"
   ]
  },
  {
   "cell_type": "markdown",
   "metadata": {
    "id": "puWF41Pim2Fo"
   },
   "source": [
    "### Hyperparameter Tuning(ROS)"
   ]
  },
  {
   "cell_type": "code",
   "execution_count": null,
   "metadata": {
    "colab": {
     "base_uri": "https://localhost:8080/",
     "height": 508
    },
    "executionInfo": {
     "elapsed": 69279,
     "status": "ok",
     "timestamp": 1736274802743,
     "user": {
      "displayName": "Atish Kundu",
      "userId": "00008227457038491539"
     },
     "user_tz": -330
    },
    "id": "7ZIydtfHV_s0",
    "outputId": "18ac5344-a526-40f9-bb5f-fc9a1314e3a9"
   },
   "outputs": [],
   "source": [
    "grid_ros = GridSearchCV(SVC(),param_grid,refit=True,verbose=2,cv=2)\n",
    "grid_ros.fit(x_train_ros,y_train_ros)"
   ]
  },
  {
   "cell_type": "code",
   "execution_count": null,
   "metadata": {
    "colab": {
     "base_uri": "https://localhost:8080/"
    },
    "executionInfo": {
     "elapsed": 5,
     "status": "ok",
     "timestamp": 1736274802744,
     "user": {
      "displayName": "Atish Kundu",
      "userId": "00008227457038491539"
     },
     "user_tz": -330
    },
    "id": "nU4JiW3YWNO0",
    "outputId": "8cf337a4-1354-4924-8ba4-7f8ba6cd53a1"
   },
   "outputs": [],
   "source": [
    "print(grid_ros.best_estimator_)"
   ]
  },
  {
   "cell_type": "code",
   "execution_count": 87,
   "metadata": {
    "executionInfo": {
     "elapsed": 6596,
     "status": "ok",
     "timestamp": 1736274809336,
     "user": {
      "displayName": "Atish Kundu",
      "userId": "00008227457038491539"
     },
     "user_tz": -330
    },
    "id": "mOaelmIpWeaT"
   },
   "outputs": [],
   "source": [
    "grid_pred_ros = grid_ros.predict(x_test_ros)"
   ]
  },
  {
   "cell_type": "code",
   "execution_count": null,
   "metadata": {
    "colab": {
     "base_uri": "https://localhost:8080/"
    },
    "executionInfo": {
     "elapsed": 5,
     "status": "ok",
     "timestamp": 1736274809337,
     "user": {
      "displayName": "Atish Kundu",
      "userId": "00008227457038491539"
     },
     "user_tz": -330
    },
    "id": "hrs8EAtVWTI8",
    "outputId": "76ee5c5e-a8e1-40c7-81ea-9ea5e7b7dd25"
   },
   "outputs": [],
   "source": [
    "confusion_matrix(y_test_ros,grid_pred_ros)"
   ]
  },
  {
   "cell_type": "code",
   "execution_count": null,
   "metadata": {
    "colab": {
     "base_uri": "https://localhost:8080/"
    },
    "executionInfo": {
     "elapsed": 4,
     "status": "ok",
     "timestamp": 1736274809337,
     "user": {
      "displayName": "Atish Kundu",
      "userId": "00008227457038491539"
     },
     "user_tz": -330
    },
    "id": "fCr2xdjNWcH2",
    "outputId": "b8435d42-ca56-426f-f3f7-3b03db31fcc5"
   },
   "outputs": [],
   "source": [
    "print(classification_report(y_test_ros,grid_pred_ros))"
   ]
  },
  {
   "cell_type": "markdown",
   "metadata": {
    "id": "TKDJJ2UznXk_"
   },
   "source": [
    "***Summary***\n",
    "\n",
    "\n",
    "  We can cconclude that for our problem the Random Over Sampling is is giving us the most accurate result here after hyperparameter tuning.It gives us an accuracy of 92% with precision 0.88 and a recall value of 0.97 which is better than the Normal model and Random Under Sampling model.\n",
    "\n"
   ]
  }
 ],
 "metadata": {
  "colab": {
   "authorship_tag": "ABX9TyNIouP3WQRgB0SdXi7GB4By",
   "provenance": []
  },
  "kernelspec": {
   "display_name": "Python 3",
   "name": "python3"
  },
  "language_info": {
   "name": "python",
   "version": "3.12.3"
  }
 },
 "nbformat": 4,
 "nbformat_minor": 0
}
